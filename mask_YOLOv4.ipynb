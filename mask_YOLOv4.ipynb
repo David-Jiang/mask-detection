{
  "nbformat": 4,
  "nbformat_minor": 0,
  "metadata": {
    "colab": {
      "name": "mask-YOLOv4.ipynb",
      "provenance": [],
      "toc_visible": true,
      "authorship_tag": "ABX9TyME4On/rUZAsZjyQc5Z+OST"
    },
    "kernelspec": {
      "name": "python3",
      "display_name": "Python 3"
    },
    "language_info": {
      "name": "python"
    },
    "accelerator": "GPU"
  },
  "cells": [
    {
      "cell_type": "markdown",
      "metadata": {
        "id": "oZzEEnmf0dK2"
      },
      "source": [
        "# package initial"
      ]
    },
    {
      "cell_type": "code",
      "metadata": {
        "id": "mAdzUPK4zkL0"
      },
      "source": [
        "from google.colab import drive\n",
        "from zipfile import ZipFile\n",
        "import matplotlib.pyplot as plt\n",
        "import cv2\n",
        "import os\n",
        "import shutil"
      ],
      "execution_count": null,
      "outputs": []
    },
    {
      "cell_type": "code",
      "metadata": {
        "id": "-YMUP7pL0bOy"
      },
      "source": [
        "if not os.path.exists(\"yolov4_face_mask.weights\"):\n",
        "    drive.mount('/content/drive')"
      ],
      "execution_count": null,
      "outputs": []
    },
    {
      "cell_type": "code",
      "metadata": {
        "id": "FSuA9wAB0bTv"
      },
      "source": [
        "if not os.path.exists(\"yolov4_face_mask.weights\"):\n",
        "    !git clone https://github.com/AlexeyAB/darknet\n",
        "\n",
        "    %cd darknet\n",
        "    !sed -i 's/OPENCV=0/OPENCV=1/' Makefile\n",
        "    !sed -i 's/GPU=0/GPU=1/' Makefile\n",
        "    !sed -i 's/CUDNN=0/CUDNN=1/' Makefile\n",
        "    !sed -i 's/CUDNN_HALF=0/CUDNN_HALF=1/' Makefile\n",
        "\n",
        "    !make"
      ],
      "execution_count": null,
      "outputs": []
    },
    {
      "cell_type": "code",
      "metadata": {
        "id": "fyVPHpij0bRP"
      },
      "source": [
        "if not os.path.exists(\"yolov4_face_mask.weights\"):\n",
        "    !cp /content/drive/MyDrive/paper/resource2/obj.data obj.data\n",
        "    !cp /content/drive/MyDrive/paper/resource2/obj.names obj.names\n",
        "    !cp /content/drive/MyDrive/paper/resource2/yolov4.cfg yolov4.cfg\n",
        "    !cp /content/drive/MyDrive/paper/resource2/yolov4_face_mask.weights yolov4_face_mask.weights\n",
        "    !cp /content/drive/MyDrive/paper/resource2/test_images.zip test_images.zip"
      ],
      "execution_count": null,
      "outputs": []
    },
    {
      "cell_type": "code",
      "metadata": {
        "id": "rxZXrHnS2w4Z"
      },
      "source": [
        "shutil.rmtree('test_images', ignore_errors=True)\n",
        "shutil.rmtree('result', ignore_errors=True)\n",
        "ZipFile(\"test_images.zip\").extractall(\"test_images\")\n",
        "!mkdir result"
      ],
      "execution_count": null,
      "outputs": []
    },
    {
      "cell_type": "markdown",
      "metadata": {
        "id": "FVcDvwo11a12"
      },
      "source": [
        "# prediction"
      ]
    },
    {
      "cell_type": "code",
      "metadata": {
        "id": "vKOqPFbf0bWH"
      },
      "source": [
        "!./darknet detector test obj.data yolov4.cfg yolov4_face_mask.weights test_images/1.jpg -dont_show\n",
        "shutil.move('predictions.jpg', 'result/predictions1.jpg')\n",
        "\n",
        "!./darknet detector test obj.data yolov4.cfg yolov4_face_mask.weights test_images/2.jpg -dont_show\n",
        "shutil.move('predictions.jpg', 'result/predictions2.jpg')\n",
        "\n",
        "!./darknet detector test obj.data yolov4.cfg yolov4_face_mask.weights test_images/3.jpg -dont_show\n",
        "shutil.move('predictions.jpg', 'result/predictions3.jpg')\n",
        "\n",
        "!./darknet detector test obj.data yolov4.cfg yolov4_face_mask.weights test_images/4.jpg -dont_show\n",
        "shutil.move('predictions.jpg', 'result/predictions4.jpg')\n",
        "\n",
        "!./darknet detector test obj.data yolov4.cfg yolov4_face_mask.weights test_images/5.jpg -dont_show\n",
        "shutil.move('predictions.jpg', 'result/predictions5.jpg')\n",
        "\n",
        "!./darknet detector test obj.data yolov4.cfg yolov4_face_mask.weights test_images/6.jpg -dont_show\n",
        "shutil.move('predictions.jpg', 'result/predictions6.jpg')"
      ],
      "execution_count": null,
      "outputs": []
    },
    {
      "cell_type": "code",
      "metadata": {
        "id": "9sRg58ZcFMOQ"
      },
      "source": [
        "count = 0\n",
        "fig, axes = plt.subplots(2, 3, figsize=(30, 30))\n",
        "for seq in range(1, 7):\n",
        "    img = cv2.imread('result/predictions' + str(seq) + '.jpg')\n",
        "    if img is not None:\n",
        "        img = cv2.cvtColor(img, cv2.IMREAD_GRAYSCALE)\n",
        "        new_img = cv2.cvtColor(img, cv2.COLOR_RGB2BGR)\n",
        "        ax = list(axes.flatten())[count]\n",
        "        ax.imshow(img)\n",
        "        ax.set_title('Prediction ' + str(count+1))\n",
        "        ax.axis('off')\n",
        "        count += 1\n",
        "plt.show()"
      ],
      "execution_count": null,
      "outputs": []
    }
  ]
}